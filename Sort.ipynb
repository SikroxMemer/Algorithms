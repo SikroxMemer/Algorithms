{
 "cells": [
  {
   "attachments": {},
   "cell_type": "markdown",
   "metadata": {},
   "source": [
    "<section style=\"border:1px solid wheat;border-radius:25px;text-align:center;\">\n",
    "<h1 style=\"color:pink;\">Sort Algorithm</h1>\n",
    "\n",
    "**A B C D E F G H I J K L M N O P Q R S T**<br>\n",
    "<p style=\"color:gold;\">input : Array = [\"Lisa\" , \"Addam\" , \"Rose\" , \"Jamal\" , \"Xavier\"]</p>\n",
    "<p style=\"color:lightgreen;\">output : Array = ['Addam' , 'Jamal' , 'Lisa' , 'Rose' , 'Xavier']</p>\n",
    "</section>"
   ]
  },
  {
   "cell_type": "code",
   "execution_count": 1,
   "metadata": {},
   "outputs": [],
   "source": [
    "Array = [\"Lisa\" , \"Addam\" , \"Rose\" , \"Jamal\" , \"Xavier\"]"
   ]
  },
  {
   "cell_type": "code",
   "execution_count": 4,
   "metadata": {},
   "outputs": [
    {
     "name": "stdout",
     "output_type": "stream",
     "text": [
      "['Addam', 'Jamal', 'Lisa', 'Rose', 'Xavier']\n"
     ]
    }
   ],
   "source": [
    "def sort(list):\n",
    "    for i in range(0 , len(list)):\n",
    "        k = i\n",
    "        for j in range(i+1 , len(list)):\n",
    "            if list[j] < list[k]:\n",
    "                k = j\n",
    "            pass\n",
    "        pass\n",
    "        if k!=i:\n",
    "            ch = list[k]\n",
    "            list[k] = list[i]\n",
    "            list[i] = ch\n",
    "        pass\n",
    "    pass\n",
    "pass\n",
    "sort(Array)\n",
    "print(Array)"
   ]
  }
 ],
 "metadata": {
  "kernelspec": {
   "display_name": "Python 3",
   "language": "python",
   "name": "python3"
  },
  "language_info": {
   "codemirror_mode": {
    "name": "ipython",
    "version": 3
   },
   "file_extension": ".py",
   "mimetype": "text/x-python",
   "name": "python",
   "nbconvert_exporter": "python",
   "pygments_lexer": "ipython3",
   "version": "3.10.0 (tags/v3.10.0:b494f59, Oct  4 2021, 19:00:18) [MSC v.1929 64 bit (AMD64)]"
  },
  "orig_nbformat": 4,
  "vscode": {
   "interpreter": {
    "hash": "5c07789bb71b67b93f737c5155e6ce5bbcf124d9515d041493bb7a3b44545e7f"
   }
  }
 },
 "nbformat": 4,
 "nbformat_minor": 2
}
