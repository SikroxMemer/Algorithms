{
 "cells": [
  {
   "attachments": {},
   "cell_type": "markdown",
   "metadata": {},
   "source": [
    "<h1 style=\"text-align:center;\">Colored Output</h1>"
   ]
  },
  {
   "cell_type": "code",
   "execution_count": 1,
   "metadata": {},
   "outputs": [],
   "source": [
    "from tabulate import tabulate\n",
    "\n",
    "\n",
    "class System():\n",
    "    global Colors\n",
    "    Colors = ['\\033[95m', '\\033[94m', '\\033[4m', '\\033[96m',\n",
    "              '\\033[92m', '\\033[93m', '\\033[91m', '\\033[0m', '\\033[1m',]\n",
    "\n",
    "    def __init__(self):\n",
    "        self.string = ''\n",
    "\n",
    "    def __repr__(self):\n",
    "        return \"Colord Output System Loaded At Current Python File\"\n",
    "\n",
    "    @property\n",
    "    def COLORS(self):\n",
    "        Table = [[\"FUNCTION\", \"ANSI CODE\"], [\"HEADER\", '033[95m'], [\"OKBLUE\", '033[94m'], [\"OKCYAN\", '033[96m'],\n",
    "                 [\"OKGREEN\", '033[92m'], [\"WARNING\",\n",
    "                                          '033[93m'], [\"FAIL\", '033[91m'],\n",
    "                 [\"ENDC\", '033[0m'], [\"BOLD\", '033[1m'], [\"UNDERLINE\", '033[4m']]\n",
    "        print(tabulate(Table, headers='firstrow', tablefmt='grid'))\n",
    "\n",
    "    def COLOR(self, string: str, color: str):\n",
    "        match color:\n",
    "            case 'blue':\n",
    "                self.string = Colors[1] + string + Colors[6]\n",
    "            case 'cyan':\n",
    "                self.string = Colors[3] + string + Colors[6]\n",
    "            case 'yellow':\n",
    "                self.string = Colors[5] + string + Colors[6]\n",
    "            case 'red':\n",
    "                self.string = Colors[6] + string + Colors[6]\n",
    "            case 'green':\n",
    "                self.string = Colors[4] + string + Colors[6]\n",
    "        pass\n",
    "    def STYLE(self, type):\n",
    "        match type:\n",
    "            case 'header':\n",
    "                self.string = '\\033[95m' + self.string + '\\033[0m'\n",
    "                pass\n",
    "            case 'bold':\n",
    "                self.string = '\\033[1m' + self.string + '\\033[0m'\n",
    "                pass\n",
    "            case 'underline':\n",
    "                self.string = '\\033[4m' + self.string + '\\033[0m'\n",
    "                pass\n",
    "\n",
    "    def OUT(self):\n",
    "        print(self.string)"
   ]
  },
  {
   "attachments": {},
   "cell_type": "markdown",
   "metadata": {},
   "source": [
    "<h3 style=\"text-align:center;\">test:</h3>"
   ]
  },
  {
   "cell_type": "code",
   "execution_count": 2,
   "metadata": {},
   "outputs": [
    {
     "name": "stdout",
     "output_type": "stream",
     "text": [
      "\u001b[4m\u001b[92mHello World\u001b[91m\u001b[0m\n",
      "\u001b[4m\u001b[91mHello World\u001b[91m\u001b[0m\n",
      "\u001b[4m\u001b[93mHello World\u001b[91m\u001b[0m\n",
      "\u001b[4m\u001b[94mHello World\u001b[91m\u001b[0m\n",
      "\u001b[4m\u001b[96mHello World\u001b[91m\u001b[0m\n"
     ]
    }
   ],
   "source": [
    "f = System()\n",
    "f.COLOR(string='Hello World', color='green')\n",
    "f.STYLE(type='underline')\n",
    "f.OUT()\n",
    "f.COLOR(string='Hello World', color='red')\n",
    "f.STYLE(type='underline')\n",
    "f.OUT()\n",
    "f.COLOR(string='Hello World', color='yellow')\n",
    "f.STYLE(type='underline')\n",
    "f.OUT()\n",
    "f.COLOR(string='Hello World', color='blue')\n",
    "f.STYLE(type='underline')\n",
    "f.OUT()\n",
    "f.COLOR(string='Hello World', color='cyan')\n",
    "f.STYLE(type='underline')\n",
    "f.OUT()"
   ]
  }
 ],
 "metadata": {
  "kernelspec": {
   "display_name": "Python 3",
   "language": "python",
   "name": "python3"
  },
  "language_info": {
   "codemirror_mode": {
    "name": "ipython",
    "version": 3
   },
   "file_extension": ".py",
   "mimetype": "text/x-python",
   "name": "python",
   "nbconvert_exporter": "python",
   "pygments_lexer": "ipython3",
   "version": "3.10.0"
  },
  "orig_nbformat": 4,
  "vscode": {
   "interpreter": {
    "hash": "5c07789bb71b67b93f737c5155e6ce5bbcf124d9515d041493bb7a3b44545e7f"
   }
  }
 },
 "nbformat": 4,
 "nbformat_minor": 2
}
