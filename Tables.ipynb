{
 "cells": [
  {
   "attachments": {},
   "cell_type": "markdown",
   "metadata": {},
   "source": [
    "<h1 style=\"text-align:center;\">Tables in Python</h1>\n",
    "\n"
   ]
  },
  {
   "attachments": {},
   "cell_type": "markdown",
   "metadata": {},
   "source": [
    "<section style=\"text-align:center;\"><p>1 Dimension Table</p></section>"
   ]
  },
  {
   "cell_type": "code",
   "execution_count": null,
   "metadata": {},
   "outputs": [],
   "source": [
    "import sys , tabulate"
   ]
  },
  {
   "cell_type": "code",
   "execution_count": 1,
   "metadata": {},
   "outputs": [],
   "source": [
    "Table = list()\n",
    "Max = int(input(\"Enter A Max Value For The Table :\"))\n",
    "for i in range(0 , Max):\n",
    "    Table.append(int(input(f\"Line [{i}] :\")))\n",
    "    pass"
   ]
  },
  {
   "attachments": {},
   "cell_type": "markdown",
   "metadata": {},
   "source": [
    "<section style=\"text-align:center;\"><p>2 Dimension Table</p></section>"
   ]
  },
  {
   "cell_type": "code",
   "execution_count": null,
   "metadata": {},
   "outputs": [],
   "source": [
    "Table = list()\n",
    "Max = Max = int(input(\"Enter A Max Value For The Table :\"))\n",
    "for i in range(0 , Max):\n",
    "    Table.append(list())\n",
    "    for j in range(0 , Max):\n",
    "        Table[i].append(int(input(f\"Line [{i}] | Column [{j}] :\")))\n",
    "    pass\n",
    "pass"
   ]
  },
  {
   "attachments": {},
   "cell_type": "markdown",
   "metadata": {},
   "source": [
    "<section style=\"text-align:center;\"><p>1 Dimension Table Sum</p></section>"
   ]
  },
  {
   "cell_type": "code",
   "execution_count": 5,
   "metadata": {},
   "outputs": [],
   "source": [
    "Table = list()\n",
    "Max = int(input(\"Enter A Max Value For The Table :\"))\n",
    "Sum = 0\n",
    "for i in range(0 , Max):\n",
    "    Table.append(int(input(f\"Line [{i}] :\")))\n",
    "    Sum += Table[i]\n",
    "    pass"
   ]
  },
  {
   "attachments": {},
   "cell_type": "markdown",
   "metadata": {},
   "source": [
    "<section style=\"text-align:center;\"><p>2 Dimension Table Sum</p></section>"
   ]
  },
  {
   "cell_type": "code",
   "execution_count": null,
   "metadata": {},
   "outputs": [],
   "source": [
    "Table = list()\n",
    "Max = Max = int(input(\"Enter A Max Value For The Table :\"))\n",
    "Sum = 0\n",
    "for i in range(0 , Max):\n",
    "    Table.append(list())\n",
    "    for j in range(0 , Max):\n",
    "        Table[i].append(int(input(f\"Line [{i}] | Column [{j}] :\")))\n",
    "        Sum += Table[i][j]\n",
    "    pass\n",
    "pass"
   ]
  }
 ],
 "metadata": {
  "kernelspec": {
   "display_name": "Python 3",
   "language": "python",
   "name": "python3"
  },
  "language_info": {
   "codemirror_mode": {
    "name": "ipython",
    "version": 3
   },
   "file_extension": ".py",
   "mimetype": "text/x-python",
   "name": "python",
   "nbconvert_exporter": "python",
   "pygments_lexer": "ipython3",
   "version": "3.10.0 (tags/v3.10.0:b494f59, Oct  4 2021, 19:00:18) [MSC v.1929 64 bit (AMD64)]"
  },
  "orig_nbformat": 4,
  "vscode": {
   "interpreter": {
    "hash": "5c07789bb71b67b93f737c5155e6ce5bbcf124d9515d041493bb7a3b44545e7f"
   }
  }
 },
 "nbformat": 4,
 "nbformat_minor": 2
}
