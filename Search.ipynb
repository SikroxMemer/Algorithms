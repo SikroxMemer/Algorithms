{
 "cells": [
  {
   "attachments": {},
   "cell_type": "markdown",
   "metadata": {},
   "source": [
    "<section style=\"border:1px solid wheat;border-radius:25px;\">\n",
    "    <h1 style=\"text-align:center;color:aqua;\">Search Algorithm</h1>\n",
    "    <p style=\"text-align:center;font-family:monospace;\">Example Of A Search Algorithm</p><br>\n",
    "    <p style=\"text-align:center;font-family:monospace;color:gold;\">Important : The Input List Must Be Sorted !</p>\n",
    "</section>"
   ]
  },
  {
   "cell_type": "code",
   "execution_count": 22,
   "metadata": {},
   "outputs": [],
   "source": [
    "List = [\"Orange\" , \"Bananna\" , \"Kiwi\" , \"Apple\"]"
   ]
  },
  {
   "attachments": {},
   "cell_type": "markdown",
   "metadata": {},
   "source": [
    "<p style=\"text-align:center;color:aqua;\">🧾Iterative Method:🧾</p>"
   ]
  },
  {
   "cell_type": "code",
   "execution_count": 23,
   "metadata": {},
   "outputs": [],
   "source": [
    "def Search(List , value): \n",
    "    List.sort()\n",
    "    Start_Search = 0\n",
    "    End_Search = 4\n",
    "    while Start_Search < End_Search:\n",
    "        Midle_Search = (End_Search + Start_Search) // 2\n",
    "        if List[Midle_Search]==value:\n",
    "            return Midle_Search\n",
    "        elif List[Midle_Search] > value:\n",
    "            End_Search = Midle_Search - 1\n",
    "        else:\n",
    "            Start_Search = Midle_Search + 1\n",
    "    return -1\n",
    "pass"
   ]
  },
  {
   "attachments": {},
   "cell_type": "markdown",
   "metadata": {},
   "source": [
    "<p style=\"text-align:center;color:aqua;\">🔄 Recursion Method: 🔄</p>"
   ]
  },
  {
   "cell_type": "code",
   "execution_count": 26,
   "metadata": {},
   "outputs": [],
   "source": [
    "def Recursion_Search(list , start , end , value):\n",
    "    list.sort()\n",
    "    if start < end:\n",
    "        Mid = (end + start) // 2 \n",
    "        if list[Mid] == value:\n",
    "            return Mid\n",
    "        elif list[Mid] > value:\n",
    "            return Recursion_Search(list,start,Mid-1,value)\n",
    "        else:\n",
    "            return Recursion_Search(list,Mid+1,end,value)\n",
    "    return -1\n",
    "pass"
   ]
  },
  {
   "cell_type": "code",
   "execution_count": 30,
   "metadata": {},
   "outputs": [
    {
     "name": "stdout",
     "output_type": "stream",
     "text": [
      "0\n"
     ]
    }
   ],
   "source": [
    "print(Recursion_Search(List , 0 , len(List) , \"Apple\"))"
   ]
  }
 ],
 "metadata": {
  "kernelspec": {
   "display_name": "Python 3.10.0 64-bit",
   "language": "python",
   "name": "python3"
  },
  "language_info": {
   "codemirror_mode": {
    "name": "ipython",
    "version": 3
   },
   "file_extension": ".py",
   "mimetype": "text/x-python",
   "name": "python",
   "nbconvert_exporter": "python",
   "pygments_lexer": "ipython3",
   "version": "3.10.0 (tags/v3.10.0:b494f59, Oct  4 2021, 19:00:18) [MSC v.1929 64 bit (AMD64)]"
  },
  "orig_nbformat": 4,
  "vscode": {
   "interpreter": {
    "hash": "5c07789bb71b67b93f737c5155e6ce5bbcf124d9515d041493bb7a3b44545e7f"
   }
  }
 },
 "nbformat": 4,
 "nbformat_minor": 2
}
