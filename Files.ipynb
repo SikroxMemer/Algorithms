{
 "cells": [
  {
   "cell_type": "code",
   "execution_count": 8,
   "metadata": {},
   "outputs": [],
   "source": [
    "import datetime\n",
    "import string\n",
    "import os\n",
    "import random"
   ]
  },
  {
   "attachments": {},
   "cell_type": "markdown",
   "metadata": {},
   "source": [
    "<h3 style=\"text-align:center;\"> Class : Html() </h3>"
   ]
  },
  {
   "cell_type": "code",
   "execution_count": 32,
   "metadata": {},
   "outputs": [],
   "source": [
    "class Html():\n",
    "    def __init__(self,file:str,extension:str):\n",
    "        self.file = file\n",
    "        self.extension = extension\n",
    "    def __str__(self):\n",
    "        return f\"Class : Html 1.0V Loaded At {datetime.datetime.now()} With File : {self.file+self.extension}\"\n",
    "    def Check(self):\n",
    "        file , extension = os.path.splitext(f'{self.file}{self.extension}')\n",
    "        if extension[0] != '.':\n",
    "            print('Every Extension Must Start With A Point (.) !')    \n",
    "        else:\n",
    "            print(file + extension)\n",
    "    @property\n",
    "    def Set_DOCTYPE(self):\n",
    "        with open(self.file+self.extension , 'w') as DOCTYPE:\n",
    "            DOCTYPE.write(\"<!DOCTYPE html>\\n\")\n",
    "            DOCTYPE.close()\n",
    "        pass\n",
    "    def Set_Html(self, Id ,content,type):\n",
    "        Main = self.file+self.extension\n",
    "        with open(Main , 'a') as Html_File:\n",
    "            Html_File.write(f\"<{type} id='{Id}'>{content}</{type}>\\n\")\n",
    "            Html_File.close()\n",
    "    @property\n",
    "    def Print_Html(self):\n",
    "        with open(self.file+self.extension , 'r') as Html_file:\n",
    "           for Html_Lines in Html_file:\n",
    "                print(Html_Lines)\n",
    "           Html_file.close()\n",
    "           pass\n",
    "    @property\n",
    "    def Set_Style(self):\n",
    "        with open(self.file+self.extension , 'a') as Html_file:\n",
    "            Html_file.write('<style>')\n",
    "        Html_file.close()\n",
    "        pass\n",
    "    @property\n",
    "    def Set_Script(self):\n",
    "        with open(self.file+self.extension , 'a') as Html_file:\n",
    "            Html_file.write('<script>')\n",
    "        Html_file.close()\n",
    "        pass\n",
    "    def Style(self,target,style,value):\n",
    "        with open(self.file+self.extension , 'a') as Html_file:\n",
    "            Code = str(f\"{target}\" + '{' + f\"{style}:{value};\" + '}' + '</style>\\n')\n",
    "            Html_file.write(Code)\n",
    "            Html_file.close()\n",
    "    def Script(self , Id , command , value):\n",
    "        with open(self.file+self.extension , 'a') as Html_file:\n",
    "            st = string.ascii_letters\n",
    "            k = random.choice(st)\n",
    "            Code = str(f\"let {k} = document.getElementById('{Id}').{command} = '{value}';</script>\\n\")\n",
    "            Html_file.write(Code)\n",
    "            Html_file.close()\n",
    "    pass\n"
   ]
  },
  {
   "cell_type": "code",
   "execution_count": 33,
   "metadata": {},
   "outputs": [],
   "source": [
    "file = Html('index','.html')\n",
    "file.__str__()\n",
    "file.Set_DOCTYPE\n",
    "file.Set_Html(content='' , Id='Header' , type='h1')\n",
    "file.Set_Style\n",
    "file.Style(target='h1' , style='color' , value='red')\n",
    "file.Set_Script\n",
    "file.Script(Id='Header' , command='innerHTML' , value='Hello World !')"
   ]
  }
 ],
 "metadata": {
  "kernelspec": {
   "display_name": "Python 3",
   "language": "python",
   "name": "python3"
  },
  "language_info": {
   "codemirror_mode": {
    "name": "ipython",
    "version": 3
   },
   "file_extension": ".py",
   "mimetype": "text/x-python",
   "name": "python",
   "nbconvert_exporter": "python",
   "pygments_lexer": "ipython3",
   "version": "3.10.0"
  },
  "orig_nbformat": 4,
  "vscode": {
   "interpreter": {
    "hash": "5c07789bb71b67b93f737c5155e6ce5bbcf124d9515d041493bb7a3b44545e7f"
   }
  }
 },
 "nbformat": 4,
 "nbformat_minor": 2
}
